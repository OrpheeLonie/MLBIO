{
  "cells": [
    {
      "cell_type": "markdown",
      "metadata": {
        "id": "35qVcMD1YCCe"
      },
      "source": [
        "# Projet MLBIO : Classification de type de cancer de la peau - pytorch\n",
        "Caroline Devaux  \n",
        "Emmanuel Mollard  \n",
        "SCIA 2023   \n",
        "    \n",
        "    Compléter et mettre le sujet en détail ici"
      ]
    },
    {
      "cell_type": "markdown",
      "metadata": {
        "id": "iMhnZlViYCCj"
      },
      "source": [
        "## I. Importation des données"
      ]
    },
    {
      "cell_type": "code",
      "execution_count": null,
      "metadata": {
        "id": "sOHRofXMYCCm"
      },
      "outputs": [],
      "source": [
        "! pip install kaggle\n",
        "import kaggle\n",
        "import json\n",
        "\n",
        "kaggle.api.authenticate()\n",
        "\n",
        "kaggle.api.dataset_download_files('surajghuwalewala/ham1000-segmentation-and-classification', path='data/', unzip=True)"
      ]
    },
    {
      "cell_type": "code",
      "execution_count": 104,
      "metadata": {
        "id": "LQvNWBH5YCCo"
      },
      "outputs": [],
      "source": [
        "import pandas as pd\n",
        "data = pd.read_csv('data/GroundTruth.csv')"
      ]
    },
    {
      "cell_type": "markdown",
      "metadata": {
        "id": "KufSpViWYCCq"
      },
      "source": [
        "## II. Etude du dataset"
      ]
    },
    {
      "cell_type": "markdown",
      "metadata": {
        "id": "lEGH5EEyYCCr"
      },
      "source": [
        "Tout d'abord nous allons étudier la répartition des différentes catégories du dataset. Nous pouvons observer 7 différents types de mélanome, les plus présents dans le dataset sont le **Melanocytic nevi (NV)**, le **Mélanome (MEL)** et le **Benign keratosis lesions (BKL)**."
      ]
    },
    {
      "cell_type": "code",
      "execution_count": 105,
      "metadata": {
        "colab": {
          "base_uri": "https://localhost:8080/"
        },
        "id": "_1LfRQgwYCCs",
        "outputId": "31296320-9d44-46ee-d843-b8d5de0cfa32"
      },
      "outputs": [
        {
          "output_type": "execute_result",
          "data": {
            "text/plain": [
              "image    ISIC_0024306ISIC_0024307ISIC_0024308ISIC_00243...\n",
              "MEL                                                 1113.0\n",
              "NV                                                  6705.0\n",
              "BCC                                                  514.0\n",
              "AKIEC                                                327.0\n",
              "BKL                                                 1099.0\n",
              "DF                                                   115.0\n",
              "VASC                                                 142.0\n",
              "dtype: object"
            ]
          },
          "metadata": {},
          "execution_count": 105
        }
      ],
      "source": [
        "data.sum(axis=0)"
      ]
    },
    {
      "cell_type": "markdown",
      "metadata": {
        "id": "zalcOcjYYCCu"
      },
      "source": [
        "Ici nous avons une description en pourcentage de la distribution pour chaque classe."
      ]
    },
    {
      "cell_type": "code",
      "execution_count": 106,
      "metadata": {
        "colab": {
          "base_uri": "https://localhost:8080/",
          "height": 112
        },
        "id": "EGmWraZrYCCv",
        "outputId": "27ff5267-74a5-4d0c-b473-b53b496b8aa7"
      },
      "outputs": [
        {
          "output_type": "execute_result",
          "data": {
            "text/plain": [
              "           MEL        NV       BCC     AKIEC       BKL        DF      VASC\n",
              "mean  0.111133  0.669496  0.051323  0.032651  0.109735  0.011483  0.014179\n",
              "std   0.314313  0.470418  0.220667  0.177730  0.312575  0.106546  0.118233"
            ],
            "text/html": [
              "\n",
              "  <div id=\"df-42f04bc1-4868-4459-9c21-e7cddfc37ef8\">\n",
              "    <div class=\"colab-df-container\">\n",
              "      <div>\n",
              "<style scoped>\n",
              "    .dataframe tbody tr th:only-of-type {\n",
              "        vertical-align: middle;\n",
              "    }\n",
              "\n",
              "    .dataframe tbody tr th {\n",
              "        vertical-align: top;\n",
              "    }\n",
              "\n",
              "    .dataframe thead th {\n",
              "        text-align: right;\n",
              "    }\n",
              "</style>\n",
              "<table border=\"1\" class=\"dataframe\">\n",
              "  <thead>\n",
              "    <tr style=\"text-align: right;\">\n",
              "      <th></th>\n",
              "      <th>MEL</th>\n",
              "      <th>NV</th>\n",
              "      <th>BCC</th>\n",
              "      <th>AKIEC</th>\n",
              "      <th>BKL</th>\n",
              "      <th>DF</th>\n",
              "      <th>VASC</th>\n",
              "    </tr>\n",
              "  </thead>\n",
              "  <tbody>\n",
              "    <tr>\n",
              "      <th>mean</th>\n",
              "      <td>0.111133</td>\n",
              "      <td>0.669496</td>\n",
              "      <td>0.051323</td>\n",
              "      <td>0.032651</td>\n",
              "      <td>0.109735</td>\n",
              "      <td>0.011483</td>\n",
              "      <td>0.014179</td>\n",
              "    </tr>\n",
              "    <tr>\n",
              "      <th>std</th>\n",
              "      <td>0.314313</td>\n",
              "      <td>0.470418</td>\n",
              "      <td>0.220667</td>\n",
              "      <td>0.177730</td>\n",
              "      <td>0.312575</td>\n",
              "      <td>0.106546</td>\n",
              "      <td>0.118233</td>\n",
              "    </tr>\n",
              "  </tbody>\n",
              "</table>\n",
              "</div>\n",
              "      <button class=\"colab-df-convert\" onclick=\"convertToInteractive('df-42f04bc1-4868-4459-9c21-e7cddfc37ef8')\"\n",
              "              title=\"Convert this dataframe to an interactive table.\"\n",
              "              style=\"display:none;\">\n",
              "        \n",
              "  <svg xmlns=\"http://www.w3.org/2000/svg\" height=\"24px\"viewBox=\"0 0 24 24\"\n",
              "       width=\"24px\">\n",
              "    <path d=\"M0 0h24v24H0V0z\" fill=\"none\"/>\n",
              "    <path d=\"M18.56 5.44l.94 2.06.94-2.06 2.06-.94-2.06-.94-.94-2.06-.94 2.06-2.06.94zm-11 1L8.5 8.5l.94-2.06 2.06-.94-2.06-.94L8.5 2.5l-.94 2.06-2.06.94zm10 10l.94 2.06.94-2.06 2.06-.94-2.06-.94-.94-2.06-.94 2.06-2.06.94z\"/><path d=\"M17.41 7.96l-1.37-1.37c-.4-.4-.92-.59-1.43-.59-.52 0-1.04.2-1.43.59L10.3 9.45l-7.72 7.72c-.78.78-.78 2.05 0 2.83L4 21.41c.39.39.9.59 1.41.59.51 0 1.02-.2 1.41-.59l7.78-7.78 2.81-2.81c.8-.78.8-2.07 0-2.86zM5.41 20L4 18.59l7.72-7.72 1.47 1.35L5.41 20z\"/>\n",
              "  </svg>\n",
              "      </button>\n",
              "      \n",
              "  <style>\n",
              "    .colab-df-container {\n",
              "      display:flex;\n",
              "      flex-wrap:wrap;\n",
              "      gap: 12px;\n",
              "    }\n",
              "\n",
              "    .colab-df-convert {\n",
              "      background-color: #E8F0FE;\n",
              "      border: none;\n",
              "      border-radius: 50%;\n",
              "      cursor: pointer;\n",
              "      display: none;\n",
              "      fill: #1967D2;\n",
              "      height: 32px;\n",
              "      padding: 0 0 0 0;\n",
              "      width: 32px;\n",
              "    }\n",
              "\n",
              "    .colab-df-convert:hover {\n",
              "      background-color: #E2EBFA;\n",
              "      box-shadow: 0px 1px 2px rgba(60, 64, 67, 0.3), 0px 1px 3px 1px rgba(60, 64, 67, 0.15);\n",
              "      fill: #174EA6;\n",
              "    }\n",
              "\n",
              "    [theme=dark] .colab-df-convert {\n",
              "      background-color: #3B4455;\n",
              "      fill: #D2E3FC;\n",
              "    }\n",
              "\n",
              "    [theme=dark] .colab-df-convert:hover {\n",
              "      background-color: #434B5C;\n",
              "      box-shadow: 0px 1px 3px 1px rgba(0, 0, 0, 0.15);\n",
              "      filter: drop-shadow(0px 1px 2px rgba(0, 0, 0, 0.3));\n",
              "      fill: #FFFFFF;\n",
              "    }\n",
              "  </style>\n",
              "\n",
              "      <script>\n",
              "        const buttonEl =\n",
              "          document.querySelector('#df-42f04bc1-4868-4459-9c21-e7cddfc37ef8 button.colab-df-convert');\n",
              "        buttonEl.style.display =\n",
              "          google.colab.kernel.accessAllowed ? 'block' : 'none';\n",
              "\n",
              "        async function convertToInteractive(key) {\n",
              "          const element = document.querySelector('#df-42f04bc1-4868-4459-9c21-e7cddfc37ef8');\n",
              "          const dataTable =\n",
              "            await google.colab.kernel.invokeFunction('convertToInteractive',\n",
              "                                                     [key], {});\n",
              "          if (!dataTable) return;\n",
              "\n",
              "          const docLinkHtml = 'Like what you see? Visit the ' +\n",
              "            '<a target=\"_blank\" href=https://colab.research.google.com/notebooks/data_table.ipynb>data table notebook</a>'\n",
              "            + ' to learn more about interactive tables.';\n",
              "          element.innerHTML = '';\n",
              "          dataTable['output_type'] = 'display_data';\n",
              "          await google.colab.output.renderOutput(dataTable, element);\n",
              "          const docLink = document.createElement('div');\n",
              "          docLink.innerHTML = docLinkHtml;\n",
              "          element.appendChild(docLink);\n",
              "        }\n",
              "      </script>\n",
              "    </div>\n",
              "  </div>\n",
              "  "
            ]
          },
          "metadata": {},
          "execution_count": 106
        }
      ],
      "source": [
        "data.describe().loc['mean':'std']"
      ]
    },
    {
      "cell_type": "markdown",
      "metadata": {
        "id": "xIbeHczlYCCx"
      },
      "source": [
        "Le dataset ne possède pas de valeur qui soit dupliquée nous n'aurons pas a faire un prétraitement à ce niveau."
      ]
    },
    {
      "cell_type": "code",
      "execution_count": 107,
      "metadata": {
        "colab": {
          "base_uri": "https://localhost:8080/"
        },
        "id": "5sW356nAYCCy",
        "outputId": "966853f9-a864-405e-89de-9fcc81d1cefd"
      },
      "outputs": [
        {
          "output_type": "execute_result",
          "data": {
            "text/plain": [
              "0"
            ]
          },
          "metadata": {},
          "execution_count": 107
        }
      ],
      "source": [
        "data.duplicated().sum()"
      ]
    },
    {
      "cell_type": "markdown",
      "metadata": {
        "id": "w-ieTketYCC0"
      },
      "source": [
        "## III. Préparation de données"
      ]
    },
    {
      "cell_type": "code",
      "execution_count": 108,
      "metadata": {
        "id": "A2QsZANeYCC2"
      },
      "outputs": [],
      "source": [
        "import numpy as np"
      ]
    },
    {
      "cell_type": "code",
      "execution_count": 109,
      "metadata": {
        "colab": {
          "base_uri": "https://localhost:8080/",
          "height": 424
        },
        "id": "8ijDLzLzYCC3",
        "outputId": "422f2f8e-f789-4222-9a21-d7ad61335293"
      },
      "outputs": [
        {
          "output_type": "execute_result",
          "data": {
            "text/plain": [
              "                  image label  label_idx\n",
              "0      ISIC_0024306.jpg    NV          1\n",
              "1      ISIC_0024307.jpg    NV          1\n",
              "2      ISIC_0024308.jpg    NV          1\n",
              "3      ISIC_0024309.jpg    NV          1\n",
              "4      ISIC_0024310.jpg   MEL          0\n",
              "...                 ...   ...        ...\n",
              "10010  ISIC_0034316.jpg   MEL          0\n",
              "10011  ISIC_0034317.jpg   MEL          0\n",
              "10012  ISIC_0034318.jpg   BKL          4\n",
              "10013  ISIC_0034319.jpg    NV          1\n",
              "10014  ISIC_0034320.jpg    NV          1\n",
              "\n",
              "[10015 rows x 3 columns]"
            ],
            "text/html": [
              "\n",
              "  <div id=\"df-4fa43b05-d5a9-436e-a7d4-40ee2c5b1fd2\">\n",
              "    <div class=\"colab-df-container\">\n",
              "      <div>\n",
              "<style scoped>\n",
              "    .dataframe tbody tr th:only-of-type {\n",
              "        vertical-align: middle;\n",
              "    }\n",
              "\n",
              "    .dataframe tbody tr th {\n",
              "        vertical-align: top;\n",
              "    }\n",
              "\n",
              "    .dataframe thead th {\n",
              "        text-align: right;\n",
              "    }\n",
              "</style>\n",
              "<table border=\"1\" class=\"dataframe\">\n",
              "  <thead>\n",
              "    <tr style=\"text-align: right;\">\n",
              "      <th></th>\n",
              "      <th>image</th>\n",
              "      <th>label</th>\n",
              "      <th>label_idx</th>\n",
              "    </tr>\n",
              "  </thead>\n",
              "  <tbody>\n",
              "    <tr>\n",
              "      <th>0</th>\n",
              "      <td>ISIC_0024306.jpg</td>\n",
              "      <td>NV</td>\n",
              "      <td>1</td>\n",
              "    </tr>\n",
              "    <tr>\n",
              "      <th>1</th>\n",
              "      <td>ISIC_0024307.jpg</td>\n",
              "      <td>NV</td>\n",
              "      <td>1</td>\n",
              "    </tr>\n",
              "    <tr>\n",
              "      <th>2</th>\n",
              "      <td>ISIC_0024308.jpg</td>\n",
              "      <td>NV</td>\n",
              "      <td>1</td>\n",
              "    </tr>\n",
              "    <tr>\n",
              "      <th>3</th>\n",
              "      <td>ISIC_0024309.jpg</td>\n",
              "      <td>NV</td>\n",
              "      <td>1</td>\n",
              "    </tr>\n",
              "    <tr>\n",
              "      <th>4</th>\n",
              "      <td>ISIC_0024310.jpg</td>\n",
              "      <td>MEL</td>\n",
              "      <td>0</td>\n",
              "    </tr>\n",
              "    <tr>\n",
              "      <th>...</th>\n",
              "      <td>...</td>\n",
              "      <td>...</td>\n",
              "      <td>...</td>\n",
              "    </tr>\n",
              "    <tr>\n",
              "      <th>10010</th>\n",
              "      <td>ISIC_0034316.jpg</td>\n",
              "      <td>MEL</td>\n",
              "      <td>0</td>\n",
              "    </tr>\n",
              "    <tr>\n",
              "      <th>10011</th>\n",
              "      <td>ISIC_0034317.jpg</td>\n",
              "      <td>MEL</td>\n",
              "      <td>0</td>\n",
              "    </tr>\n",
              "    <tr>\n",
              "      <th>10012</th>\n",
              "      <td>ISIC_0034318.jpg</td>\n",
              "      <td>BKL</td>\n",
              "      <td>4</td>\n",
              "    </tr>\n",
              "    <tr>\n",
              "      <th>10013</th>\n",
              "      <td>ISIC_0034319.jpg</td>\n",
              "      <td>NV</td>\n",
              "      <td>1</td>\n",
              "    </tr>\n",
              "    <tr>\n",
              "      <th>10014</th>\n",
              "      <td>ISIC_0034320.jpg</td>\n",
              "      <td>NV</td>\n",
              "      <td>1</td>\n",
              "    </tr>\n",
              "  </tbody>\n",
              "</table>\n",
              "<p>10015 rows × 3 columns</p>\n",
              "</div>\n",
              "      <button class=\"colab-df-convert\" onclick=\"convertToInteractive('df-4fa43b05-d5a9-436e-a7d4-40ee2c5b1fd2')\"\n",
              "              title=\"Convert this dataframe to an interactive table.\"\n",
              "              style=\"display:none;\">\n",
              "        \n",
              "  <svg xmlns=\"http://www.w3.org/2000/svg\" height=\"24px\"viewBox=\"0 0 24 24\"\n",
              "       width=\"24px\">\n",
              "    <path d=\"M0 0h24v24H0V0z\" fill=\"none\"/>\n",
              "    <path d=\"M18.56 5.44l.94 2.06.94-2.06 2.06-.94-2.06-.94-.94-2.06-.94 2.06-2.06.94zm-11 1L8.5 8.5l.94-2.06 2.06-.94-2.06-.94L8.5 2.5l-.94 2.06-2.06.94zm10 10l.94 2.06.94-2.06 2.06-.94-2.06-.94-.94-2.06-.94 2.06-2.06.94z\"/><path d=\"M17.41 7.96l-1.37-1.37c-.4-.4-.92-.59-1.43-.59-.52 0-1.04.2-1.43.59L10.3 9.45l-7.72 7.72c-.78.78-.78 2.05 0 2.83L4 21.41c.39.39.9.59 1.41.59.51 0 1.02-.2 1.41-.59l7.78-7.78 2.81-2.81c.8-.78.8-2.07 0-2.86zM5.41 20L4 18.59l7.72-7.72 1.47 1.35L5.41 20z\"/>\n",
              "  </svg>\n",
              "      </button>\n",
              "      \n",
              "  <style>\n",
              "    .colab-df-container {\n",
              "      display:flex;\n",
              "      flex-wrap:wrap;\n",
              "      gap: 12px;\n",
              "    }\n",
              "\n",
              "    .colab-df-convert {\n",
              "      background-color: #E8F0FE;\n",
              "      border: none;\n",
              "      border-radius: 50%;\n",
              "      cursor: pointer;\n",
              "      display: none;\n",
              "      fill: #1967D2;\n",
              "      height: 32px;\n",
              "      padding: 0 0 0 0;\n",
              "      width: 32px;\n",
              "    }\n",
              "\n",
              "    .colab-df-convert:hover {\n",
              "      background-color: #E2EBFA;\n",
              "      box-shadow: 0px 1px 2px rgba(60, 64, 67, 0.3), 0px 1px 3px 1px rgba(60, 64, 67, 0.15);\n",
              "      fill: #174EA6;\n",
              "    }\n",
              "\n",
              "    [theme=dark] .colab-df-convert {\n",
              "      background-color: #3B4455;\n",
              "      fill: #D2E3FC;\n",
              "    }\n",
              "\n",
              "    [theme=dark] .colab-df-convert:hover {\n",
              "      background-color: #434B5C;\n",
              "      box-shadow: 0px 1px 3px 1px rgba(0, 0, 0, 0.15);\n",
              "      filter: drop-shadow(0px 1px 2px rgba(0, 0, 0, 0.3));\n",
              "      fill: #FFFFFF;\n",
              "    }\n",
              "  </style>\n",
              "\n",
              "      <script>\n",
              "        const buttonEl =\n",
              "          document.querySelector('#df-4fa43b05-d5a9-436e-a7d4-40ee2c5b1fd2 button.colab-df-convert');\n",
              "        buttonEl.style.display =\n",
              "          google.colab.kernel.accessAllowed ? 'block' : 'none';\n",
              "\n",
              "        async function convertToInteractive(key) {\n",
              "          const element = document.querySelector('#df-4fa43b05-d5a9-436e-a7d4-40ee2c5b1fd2');\n",
              "          const dataTable =\n",
              "            await google.colab.kernel.invokeFunction('convertToInteractive',\n",
              "                                                     [key], {});\n",
              "          if (!dataTable) return;\n",
              "\n",
              "          const docLinkHtml = 'Like what you see? Visit the ' +\n",
              "            '<a target=\"_blank\" href=https://colab.research.google.com/notebooks/data_table.ipynb>data table notebook</a>'\n",
              "            + ' to learn more about interactive tables.';\n",
              "          element.innerHTML = '';\n",
              "          dataTable['output_type'] = 'display_data';\n",
              "          await google.colab.output.renderOutput(dataTable, element);\n",
              "          const docLink = document.createElement('div');\n",
              "          docLink.innerHTML = docLinkHtml;\n",
              "          element.appendChild(docLink);\n",
              "        }\n",
              "      </script>\n",
              "    </div>\n",
              "  </div>\n",
              "  "
            ]
          },
          "metadata": {},
          "execution_count": 109
        }
      ],
      "source": [
        "data_labels = []\n",
        "data_labels_i = []\n",
        "labels = list(data.columns[1:])\n",
        "for i in range (len(data)):\n",
        "    row= np.argmax(list(data.iloc[i])[1:])\n",
        "    data_labels.append(labels[row])\n",
        "    data_labels_i.append(row)\n",
        "data['label'] = data_labels\n",
        "data['label_idx'] = data_labels_i\n",
        "data['image'] = data[\"image\"] + '.jpg'\n",
        "data = data.drop(columns=labels)\n",
        "data"
      ]
    },
    {
      "cell_type": "code",
      "execution_count": 110,
      "metadata": {
        "id": "ORHBN2HiYCC4"
      },
      "outputs": [],
      "source": [
        "from os import listdir\n",
        "from os.path import isfile, join\n",
        "onlyfiles = [f for f in listdir('data/images/') if isfile(join('data/images/', f))]\n",
        "name_images = onlyfiles[1:]"
      ]
    },
    {
      "cell_type": "code",
      "execution_count": 111,
      "metadata": {
        "colab": {
          "base_uri": "https://localhost:8080/"
        },
        "id": "3-R7La4LYCC5",
        "outputId": "fd404fbf-e824-4c56-94f3-cc871f5f70db"
      },
      "outputs": [
        {
          "output_type": "stream",
          "name": "stdout",
          "text": [
            "Data Len Train: 9013 Val: 300 Test: 702\n"
          ]
        }
      ],
      "source": [
        "from sklearn.model_selection import train_test_split\n",
        "train_split=.9 # set this to the percentof the data you want to use for training\n",
        "valid_split=.03 # set this to the percent of the data you want to use for validation\n",
        "# Note percent of data sed for test is 1-train_split-valid_split\n",
        "\n",
        "valid_split=valid_split/(1-train_split)\n",
        "train_test_split\n",
        "train_df, val_test_df = train_test_split(data, train_size=train_split, random_state=62)\n",
        "val_df, test_df = train_test_split(val_test_df, train_size=valid_split, random_state=62)\n",
        "print('Data Len Train:', len(train_df), 'Val:', len(val_df), 'Test:', len(test_df))"
      ]
    },
    {
      "cell_type": "markdown",
      "metadata": {
        "id": "W6N7ejJpYCC6"
      },
      "source": [
        "### Equilibre du jeu de donnée ?\n",
        "Le dataset que nous avons est fortement déséquilibré, la classe NV est présente en majorité, cela peut nous poser un problème pour l'accuracy de notre modèle. Nous avons plusiseurs solutions disponibles qui cependant peuvent dépendre du contexte, ici nous sommes dans un contexte où la donnée la plus présente représente le mélanome le plus retrouvé, c'est une information qui peut être intéressante à considérer.\n",
        "\n",
        "- Une méthode peut être de regrouper dans la classification d'un premier modèle des mélanomes avec moins de données en entrées et les reclassifier spécifiquement dans une second modèle.\n",
        "\n",
        "- Il peut etre intéressant d'utilisé un modèle de pénalité, qui pénalise fortement le modèle quand il a mal classifier une classe minoritaire.\n",
        "\n",
        "- On peut également utiliser undersampling, réajuster une des classes majoritaire pour qu'elle soit plus proche de la quantité des classes minoritaire (utile pour dataset >10k ce qui est un peu notre cas)\n",
        "\n",
        "- Oversampling, ajouter dupliquer en modifiant un peu les iamges minoritaire pour ajouter de la quantité\n",
        "\n",
        "- class weights permets de prendre en compte le caractère biaisé de la distribution du dataset et de créer un modèle pénalisé. Il s’agit ici de simplement attribuer des poids différents aux différentes classes de notre dataset, en donnant un poids plus important aux classes minoritaires, afin d’influencer le modèle lors de son entraînement. Nous pénalisons ainsi plus fortement une erreur de classification d’une classe minoritaire par rapport à une erreur de classification d’une classe majoritaire.\n",
        "\n"
      ]
    },
    {
      "cell_type": "markdown",
      "metadata": {
        "id": "ppQ4OBdnYCC8"
      },
      "source": [
        "Dans notre contexte, il faut surveiller les caractéristiques pour chaque classe à ne pas diminuer pour que la reconnaissance ne soit pas biaisée. Dans un premier temps :\n",
        "La « règle ABCDE » peut aider à reconnaître les signes d’alerte d’un mélanome :\n",
        "\n",
        "    - A comme Asymétrie : le grain de beauté n'est pas régulier, ni rond, ni oval et ses reliefs ne sont pas répartis régulièrement autour de son centre,\n",
        "    - B comme Bords irréguliers : ses bords sont irréguliers et mal délimités,\n",
        "    - C comme Couleur : il présente plusieurs couleurs : noir, bleu, marron, rouge ou blanc,\n",
        "    - D comme Diamètre : il est de grande taille (plus de 6 mm),\n",
        "    - E comme Évolution : il évolue et grossit, change d'épaisseur et de couleur.\n"
      ]
    },
    {
      "cell_type": "markdown",
      "source": [
        "#### A. Normalizing the data"
      ],
      "metadata": {
        "id": "JbVUMKOTmrLE"
      }
    },
    {
      "cell_type": "code",
      "source": [
        "img = Image.open('data/images/ISIC_0024306.jpg')"
      ],
      "metadata": {
        "id": "YMk9_LjhnhSc"
      },
      "execution_count": 112,
      "outputs": []
    },
    {
      "cell_type": "code",
      "execution_count": 113,
      "metadata": {
        "colab": {
          "base_uri": "https://localhost:8080/",
          "height": 235
        },
        "id": "htjGU5ibYCDK",
        "outputId": "ef79e871-cb2c-44bb-db31-12e498b7f0e1"
      },
      "outputs": [
        {
          "output_type": "error",
          "ename": "NameError",
          "evalue": "ignored",
          "traceback": [
            "\u001b[0;31m---------------------------------------------------------------------------\u001b[0m",
            "\u001b[0;31mNameError\u001b[0m                                 Traceback (most recent call last)",
            "\u001b[0;32m<ipython-input-113-c62e64699909>\u001b[0m in \u001b[0;36m<module>\u001b[0;34m\u001b[0m\n\u001b[1;32m      2\u001b[0m \u001b[0;34m\u001b[0m\u001b[0m\n\u001b[1;32m      3\u001b[0m \u001b[0;31m# plot the pixel values\u001b[0m\u001b[0;34m\u001b[0m\u001b[0;34m\u001b[0m\u001b[0;34m\u001b[0m\u001b[0m\n\u001b[0;32m----> 4\u001b[0;31m \u001b[0mplt\u001b[0m\u001b[0;34m.\u001b[0m\u001b[0mhist\u001b[0m\u001b[0;34m(\u001b[0m\u001b[0mimg_np\u001b[0m\u001b[0;34m.\u001b[0m\u001b[0mravel\u001b[0m\u001b[0;34m(\u001b[0m\u001b[0;34m)\u001b[0m\u001b[0;34m,\u001b[0m \u001b[0mbins\u001b[0m\u001b[0;34m=\u001b[0m\u001b[0;36m50\u001b[0m\u001b[0;34m,\u001b[0m \u001b[0mdensity\u001b[0m\u001b[0;34m=\u001b[0m\u001b[0;32mTrue\u001b[0m\u001b[0;34m)\u001b[0m\u001b[0;34m\u001b[0m\u001b[0;34m\u001b[0m\u001b[0m\n\u001b[0m\u001b[1;32m      5\u001b[0m \u001b[0mplt\u001b[0m\u001b[0;34m.\u001b[0m\u001b[0mxlabel\u001b[0m\u001b[0;34m(\u001b[0m\u001b[0;34m\"pixel values\"\u001b[0m\u001b[0;34m)\u001b[0m\u001b[0;34m\u001b[0m\u001b[0;34m\u001b[0m\u001b[0m\n\u001b[1;32m      6\u001b[0m \u001b[0mplt\u001b[0m\u001b[0;34m.\u001b[0m\u001b[0mylabel\u001b[0m\u001b[0;34m(\u001b[0m\u001b[0;34m\"relative frequency\"\u001b[0m\u001b[0;34m)\u001b[0m\u001b[0;34m\u001b[0m\u001b[0;34m\u001b[0m\u001b[0m\n",
            "\u001b[0;31mNameError\u001b[0m: name 'plt' is not defined"
          ]
        }
      ],
      "source": [
        "img_np = np.array(img)\n",
        "\n",
        "# plot the pixel values\n",
        "plt.hist(img_np.ravel(), bins=50, density=True)\n",
        "plt.xlabel(\"pixel values\")\n",
        "plt.ylabel(\"relative frequency\")\n",
        "plt.title(\"distribution of pixels\")"
      ]
    },
    {
      "cell_type": "code",
      "execution_count": 114,
      "metadata": {
        "colab": {
          "base_uri": "https://localhost:8080/",
          "height": 312
        },
        "id": "UNVtfmRfYCDK",
        "outputId": "57e46893-5f63-4353-9e77-c956a4bdea06"
      },
      "outputs": [
        {
          "output_type": "execute_result",
          "data": {
            "text/plain": [
              "Text(0.5, 1.0, 'distribution of pixels')"
            ]
          },
          "metadata": {},
          "execution_count": 114
        },
        {
          "output_type": "display_data",
          "data": {
            "text/plain": [
              "<Figure size 432x288 with 1 Axes>"
            ],
            "image/png": "[encoded data removed]"
          },
          "metadata": {
            "needs_background": "light"
          }
        }
      ],
      "source": [
        "# Python code for converting PIL Image to\n",
        "# PyTorch Tensor image and plot pixel values\n",
        "\n",
        "# import necessary libraries\n",
        "import torchvision.transforms as transforms\n",
        "import matplotlib.pyplot as plt\n",
        "\n",
        "# define custom transform function\n",
        "transform = transforms.Compose([\n",
        "    transforms.ToTensor()\n",
        "])\n",
        "\n",
        "# transform the pIL image to tensor\n",
        "# image\n",
        "img_tr = transform(img)\n",
        "\n",
        "# Convert tensor image to numpy array\n",
        "img_np = np.array(img_tr)\n",
        "\n",
        "# plot the pixel values\n",
        "plt.hist(img_np.ravel(), bins=50, density=True)\n",
        "plt.xlabel(\"pixel values\")\n",
        "plt.ylabel(\"relative frequency\")\n",
        "plt.title(\"distribution of pixels\")"
      ]
    },
    {
      "cell_type": "code",
      "execution_count": 115,
      "metadata": {
        "colab": {
          "base_uri": "https://localhost:8080/"
        },
        "id": "y-OwIFs-YCDL",
        "outputId": "24c40735-dbe7-4e21-8389-d52a182c4abb"
      },
      "outputs": [
        {
          "output_type": "stream",
          "name": "stdout",
          "text": [
            "mean and std before normalize:\n",
            "Mean of the image: tensor([0.8421, 0.4613, 0.4645])\n",
            "Std of the image: tensor([0.1098, 0.1282, 0.1326])\n"
          ]
        }
      ],
      "source": [
        "# Python code to calculate mean and std\n",
        "# of image\n",
        "\n",
        "# get tensor image\n",
        "img_tr = transform(img)\n",
        "\n",
        "# calculate mean and std\n",
        "mean, std = img_tr.mean([1,2]), img_tr.std([1,2])\n",
        "\n",
        "# print mean and std\n",
        "print(\"mean and std before normalize:\")\n",
        "print(\"Mean of the image:\", mean)\n",
        "print(\"Std of the image:\", std)"
      ]
    },
    {
      "cell_type": "code",
      "execution_count": 116,
      "metadata": {
        "colab": {
          "base_uri": "https://localhost:8080/",
          "height": 312
        },
        "id": "LKxnhLkVYCDN",
        "outputId": "7314419e-c702-4858-c2e5-0fdbc2cf897d"
      },
      "outputs": [
        {
          "output_type": "execute_result",
          "data": {
            "text/plain": [
              "Text(0.5, 1.0, 'distribution of pixels')"
            ]
          },
          "metadata": {},
          "execution_count": 116
        },
        {
          "output_type": "display_data",
          "data": {
            "text/plain": [
              "<Figure size 432x288 with 1 Axes>"
            ],
            "image/png": "[encoded data removed]"
          },
          "metadata": {
            "needs_background": "light"
          }
        }
      ],
      "source": [
        "from torchvision import transforms\n",
        "\n",
        "# define custom transform\n",
        "# here we are using our calculated\n",
        "# mean & std\n",
        "transform_norm = transforms.Compose([\n",
        "    transforms.ToTensor(),\n",
        "    transforms.Normalize(mean, std)\n",
        "])\n",
        "\n",
        "# get normalized image\n",
        "img_normalized = transform_norm(img)\n",
        "\n",
        "# convert normalized image to numpy\n",
        "# array\n",
        "img_np = np.array(img_normalized)\n",
        "\n",
        "# plot the pixel values\n",
        "plt.hist(img_np.ravel(), bins=50, density=True)\n",
        "plt.xlabel(\"pixel values\")\n",
        "plt.ylabel(\"relative frequency\")\n",
        "plt.title(\"distribution of pixels\")"
      ]
    },
    {
      "cell_type": "code",
      "execution_count": 117,
      "metadata": {
        "colab": {
          "base_uri": "https://localhost:8080/",
          "height": 287
        },
        "id": "SjewTJ_1YCDN",
        "outputId": "716abf3c-4cae-4cda-9082-86cd5318982a"
      },
      "outputs": [
        {
          "output_type": "stream",
          "name": "stderr",
          "text": [
            "WARNING:matplotlib.image:Clipping input data to the valid range for imshow with RGB data ([0..1] for floats or [0..255] for integers).\n"
          ]
        },
        {
          "output_type": "execute_result",
          "data": {
            "text/plain": [
              "([], <a list of 0 Text major ticklabel objects>)"
            ]
          },
          "metadata": {},
          "execution_count": 117
        },
        {
          "output_type": "display_data",
          "data": {
            "text/plain": [
              "<Figure size 432x288 with 1 Axes>"
            ],
            "image/png": "[encoded data removed]"
          },
          "metadata": {}
        }
      ],
      "source": [
        "# Python Code to visualize normalized image\n",
        "\n",
        "# get normalized image\n",
        "img_normalized = transform_norm(img)\n",
        "\n",
        "# convert this image to numpy array\n",
        "img_normalized = np.array(img_normalized)\n",
        "\n",
        "# transpose from shape of (3,,) to shape of (,,3)\n",
        "img_normalized = img_normalized.transpose(1, 2, 0)\n",
        "\n",
        "# display the normalized image\n",
        "plt.imshow(img_normalized)\n",
        "plt.xticks([])\n",
        "plt.yticks([])"
      ]
    },
    {
      "cell_type": "markdown",
      "metadata": {
        "id": "jUzxhS-eYCC8"
      },
      "source": [
        "#### B. Undersampling\n",
        "On va faire plusieurs mini groupe random de train avec seulement 400 données environ maximum"
      ]
    },
    {
      "cell_type": "code",
      "execution_count": 118,
      "metadata": {
        "colab": {
          "base_uri": "https://localhost:8080/"
        },
        "id": "bPKvtwP-YCC-",
        "outputId": "8e2d7e32-51e8-42df-ea51-92b2ed9b8575"
      },
      "outputs": [
        {
          "output_type": "stream",
          "name": "stdout",
          "text": [
            "NV       450\n",
            "BKL      450\n",
            "BCC      450\n",
            "MEL      450\n",
            "AKIEC    286\n",
            "VASC     128\n",
            "DF       101\n",
            "Name: label, dtype: int64\n"
          ]
        }
      ],
      "source": [
        "max_size=450 # set maximum number of samples for each class\n",
        "samples=[]\n",
        "group=train_df.groupby('label')\n",
        "for label in train_df['label'].unique():\n",
        "    Lgroup=group.get_group(label)\n",
        "    count=int(Lgroup['label'].value_counts())    \n",
        "    if count>=max_size:\n",
        "        sample=Lgroup.sample(max_size, axis=0)        \n",
        "    else:        \n",
        "        sample=Lgroup.sample(frac=1, axis=0)\n",
        "    samples.append(sample) \n",
        "train_df=pd.concat(samples, axis=0).reset_index(drop=True)\n",
        "val_df = val_df.reset_index(drop=True)\n",
        "test_df = test_df.reset_index(drop=True)\n",
        "print(train_df['label'].value_counts())"
      ]
    },
    {
      "cell_type": "markdown",
      "metadata": {
        "id": "9wBBwKl4YCC_"
      },
      "source": [
        "Pour mieux voir la répartition nous avons choisi d'observer également grâce à une pie. Dans la partie suivante, nous allons rééquilibrer le dataset pour qu'il y ait un meilleur équilibre."
      ]
    },
    {
      "cell_type": "code",
      "execution_count": 119,
      "metadata": {
        "colab": {
          "base_uri": "https://localhost:8080/",
          "height": 483
        },
        "id": "rfaxTRO3YCC_",
        "outputId": "54c74692-50d2-447e-fe4a-d72fde098f34"
      },
      "outputs": [
        {
          "output_type": "execute_result",
          "data": {
            "text/plain": [
              "<matplotlib.legend.Legend at 0x7f1103623d00>"
            ]
          },
          "metadata": {},
          "execution_count": 119
        },
        {
          "output_type": "display_data",
          "data": {
            "text/plain": [
              "<Figure size 576x576 with 1 Axes>"
            ],
            "image/png": "[encoded data removed]"
          },
          "metadata": {}
        }
      ],
      "source": [
        "pourcentages = data['label'].value_counts() / len(data)\n",
        "from matplotlib import pyplot\n",
        "pyplot.figure(figsize = (8, 8))\n",
        "pyplot.pie(pourcentages, labels=labels)\n",
        "pyplot.legend()"
      ]
    },
    {
      "cell_type": "code",
      "execution_count": 120,
      "metadata": {
        "colab": {
          "base_uri": "https://localhost:8080/"
        },
        "id": "WAWfoBJoYCDA",
        "outputId": "d4f39b28-a32a-4ce3-c2d7-4ecb2bce4703"
      },
      "outputs": [
        {
          "output_type": "execute_result",
          "data": {
            "text/plain": [
              "NV       0.194384\n",
              "BKL      0.194384\n",
              "BCC      0.194384\n",
              "MEL      0.194384\n",
              "AKIEC    0.123542\n",
              "VASC     0.055292\n",
              "DF       0.043629\n",
              "Name: label, dtype: float64"
            ]
          },
          "metadata": {},
          "execution_count": 120
        }
      ],
      "source": [
        "new_pourcentages = train_df['label'].value_counts() / len(train_df)\n",
        "new_pourcentages"
      ]
    },
    {
      "cell_type": "code",
      "execution_count": 121,
      "metadata": {
        "colab": {
          "base_uri": "https://localhost:8080/",
          "height": 483
        },
        "id": "yFUYkZ1fYCDB",
        "outputId": "0fa9fa78-1b96-4f5e-8ee8-8e7e18f90d7e"
      },
      "outputs": [
        {
          "output_type": "execute_result",
          "data": {
            "text/plain": [
              "<matplotlib.legend.Legend at 0x7f11036d2370>"
            ]
          },
          "metadata": {},
          "execution_count": 121
        },
        {
          "output_type": "display_data",
          "data": {
            "text/plain": [
              "<Figure size 576x576 with 1 Axes>"
            ],
            "image/png": "[encoded data removed]"
          },
          "metadata": {}
        }
      ],
      "source": [
        "from matplotlib import pyplot\n",
        "pyplot.figure(figsize = (8, 8))\n",
        "pyplot.pie(new_pourcentages, labels=labels)\n",
        "pyplot.legend()"
      ]
    },
    {
      "cell_type": "markdown",
      "metadata": {
        "id": "R8gUJ7LgYCDC"
      },
      "source": [
        "#### C. Oversampling"
      ]
    },
    {
      "cell_type": "markdown",
      "source": [
        "Pour la phase de Oversampling, nous allons augmenter nos données en appliquant un transform. Le transform va retourner Horizontalement, Verticalement et incliner l'image de manière random."
      ],
      "metadata": {
        "id": "MVpXlJ8LAfYZ"
      }
    },
    {
      "cell_type": "code",
      "execution_count": 122,
      "metadata": {
        "id": "z-zfoAAKYCDC"
      },
      "outputs": [],
      "source": [
        "from torchvision import transforms\n",
        "from torch.utils.data import DataLoader, Dataset"
      ]
    },
    {
      "cell_type": "code",
      "execution_count": 123,
      "metadata": {
        "id": "OCv6IhJeYCDC"
      },
      "outputs": [],
      "source": [
        "train_transform = transforms.Compose([transforms.Resize((224,224)),\n",
        "                                      transforms.RandomHorizontalFlip(),\n",
        "                                      transforms.RandomVerticalFlip(),\n",
        "                                      transforms.RandomRotation(20),\n",
        "                                      transforms.ToTensor(),\n",
        "                                      transforms.Normalize(mean, std)])\n",
        "\n",
        "val_transform = transforms.Compose([transforms.Resize((224,224)), transforms.ToTensor(),\n",
        "                                    transforms.Normalize(mean, std)])"
      ]
    },
    {
      "cell_type": "code",
      "execution_count": 124,
      "metadata": {
        "id": "1PRQJFV7YCDD"
      },
      "outputs": [],
      "source": [
        "import torch\n",
        "import os\n",
        "from PIL import Image\n",
        "\n",
        "class SkinClassification(Dataset):\n",
        "    def __init__(self, df, transform=None):\n",
        "        self.df = df\n",
        "        self.transform = transform\n",
        "\n",
        "    def __len__(self):\n",
        "        return len(self.df)\n",
        "\n",
        "    def __getitem__(self, index):\n",
        "        # Load data and get label\n",
        "        X = Image.open(os.path.join('data/', 'images', self.df['image'][index]))\n",
        "        y = torch.tensor(int(self.df['label_idx'][index]))\n",
        "\n",
        "        if self.transform:\n",
        "            X = self.transform(X)\n",
        "\n",
        "        return X, y"
      ]
    },
    {
      "cell_type": "code",
      "execution_count": 125,
      "metadata": {
        "colab": {
          "base_uri": "https://localhost:8080/"
        },
        "id": "mTfN5L1zYCDE",
        "outputId": "0cefe3e7-d4dc-4107-9cc4-130903712245"
      },
      "outputs": [
        {
          "output_type": "stream",
          "name": "stdout",
          "text": [
            "Data Len Train: 2315\n",
            "Data Len Test: 702\n",
            "Data Len Validation: 300\n"
          ]
        }
      ],
      "source": [
        "BATCH_SIZE = 64\n",
        "NUM_WORKERS = 2\n",
        "NUM_CLASSES = 7\n",
        "\n",
        "# Define the training,val,test sets using the tables and using our defined transitions\n",
        "train_set = SkinClassification(train_df, transform=train_transform)\n",
        "train_loader = DataLoader(train_set, batch_size=BATCH_SIZE, shuffle=True, num_workers=NUM_WORKERS)\n",
        "\n",
        "test_set = SkinClassification(test_df, transform=val_transform)\n",
        "test_loader = DataLoader(test_set, batch_size=BATCH_SIZE, shuffle=False, num_workers=NUM_WORKERS)\n",
        "\n",
        "val_set = SkinClassification(val_df, transform=val_transform)\n",
        "val_loader = DataLoader(val_set, batch_size=BATCH_SIZE, shuffle=False, num_workers=NUM_WORKERS)\n",
        "\n",
        "print('Data Len Train:', len(train_set))\n",
        "print('Data Len Test:', len(test_set))\n",
        "print('Data Len Validation:', len(val_set))"
      ]
    },
    {
      "cell_type": "markdown",
      "source": [
        "On va définir 2 modèles pour la classification d'image. On a choisi le Resnet et le VGG16."
      ],
      "metadata": {
        "id": "MlgI1fZZKsTB"
      }
    },
    {
      "cell_type": "code",
      "execution_count": 126,
      "metadata": {
        "colab": {
          "base_uri": "https://localhost:8080/"
        },
        "id": "jIEcimlbYCDE",
        "outputId": "83626f71-2b3c-4bea-cc81-7234fe30ba48"
      },
      "outputs": [
        {
          "output_type": "stream",
          "name": "stderr",
          "text": [
            "/usr/local/lib/python3.8/dist-packages/torchvision/models/_utils.py:208: UserWarning: The parameter 'pretrained' is deprecated since 0.13 and may be removed in the future, please use 'weights' instead.\n",
            "  warnings.warn(\n",
            "/usr/local/lib/python3.8/dist-packages/torchvision/models/_utils.py:223: UserWarning: Arguments other than a weight enum or `None` for 'weights' are deprecated since 0.13 and may be removed in the future. The current behavior is equivalent to passing `weights=ResNet50_Weights.IMAGENET1K_V1`. You can also use `weights=ResNet50_Weights.DEFAULT` to get the most up-to-date weights.\n",
            "  warnings.warn(msg)\n",
            "/usr/local/lib/python3.8/dist-packages/torchvision/models/_utils.py:223: UserWarning: Arguments other than a weight enum or `None` for 'weights' are deprecated since 0.13 and may be removed in the future. The current behavior is equivalent to passing `weights=VGG16_Weights.IMAGENET1K_V1`. You can also use `weights=VGG16_Weights.DEFAULT` to get the most up-to-date weights.\n",
            "  warnings.warn(msg)\n"
          ]
        }
      ],
      "source": [
        "from torch import nn\n",
        "from torchvision import models\n",
        "\n",
        "# RESNET MODEL\n",
        "model_resnet = models.resnet50(pretrained=True)\n",
        "num_ftrs = model_resnet.fc.in_features\n",
        "model_resnet.fc = nn.Linear(num_ftrs, NUM_CLASSES)\n",
        "\n",
        "# VGG 16 - test\n",
        "model_vgg16 = models.vgg16(pretrained=True)\n",
        "num_ftrs = model_vgg16.classifier[6].in_features\n",
        "model_vgg16.classifier[6] = nn.Linear(num_ftrs,NUM_CLASSES)"
      ]
    },
    {
      "cell_type": "code",
      "source": [
        "def accuracy(predictions, labels):\n",
        "  return (predictions == labels).sum() / len(labels)"
      ],
      "metadata": {
        "id": "i2BgAPLoqAnz"
      },
      "execution_count": 127,
      "outputs": []
    },
    {
      "cell_type": "markdown",
      "source": [
        "## IV. Train - Test - Validation"
      ],
      "metadata": {
        "id": "yXg2QBHrLE4z"
      }
    },
    {
      "cell_type": "code",
      "execution_count": 128,
      "metadata": {
        "id": "UH0EVfOSYCDG"
      },
      "outputs": [],
      "source": [
        "from torch.autograd import Variable\n",
        "import torch.optim as optim\n",
        "\n",
        "device = torch.device('cuda:0') # gpu\n",
        "\n",
        "def train(model_ft, data_loader):\n",
        "  # Put the model on the device:\n",
        "  model = model_ft.to(device)\n",
        "\n",
        "  criterion = nn.CrossEntropyLoss().to(device)\n",
        "  optimizer = optim.SGD(model.parameters(), lr=0.001, momentum=0.9)\n",
        "  length = len(data_loader.dataset.df)\n",
        "  model.train()\n",
        "\n",
        "  for epoch in range(10):  # loop over the dataset multiple times\n",
        "\n",
        "      running_loss = 0.0\n",
        "      for i, data in enumerate(data_loader):\n",
        "          # get the inputs; data is a list of [inputs, labels]\n",
        "          inputs, labels = data\n",
        "\n",
        "          # zero the parameter gradients\n",
        "          optimizer.zero_grad()\n",
        "          inputs = Variable(inputs).to(device)\n",
        "          labels = Variable(labels).to(device)\n",
        "\n",
        "          # forward + backward + optimize\n",
        "          outputs = model(inputs)\n",
        "          loss = criterion(outputs, labels)\n",
        "          loss.backward()\n",
        "          optimizer.step()\n",
        "\n",
        "          # print statistics\n",
        "          running_loss += loss.item()\n",
        "          if i % 5 == 0:\n",
        "              print(f'[{epoch + 1}, {i}/{round(length/BATCH_SIZE)}] loss: {running_loss:.3f})')\n",
        "              running_loss = 0.0\n",
        "  print('Finished Training')"
      ]
    },
    {
      "cell_type": "code",
      "source": [
        "train(model_resnet, train_loader)\n",
        "train(model_vgg16, train_loader)"
      ],
      "metadata": {
        "colab": {
          "base_uri": "https://localhost:8080/"
        },
        "id": "ST4Qdn5RrUR_",
        "outputId": "9026d90c-eec9-4cfd-c97d-d1b564a0cebd"
      },
      "execution_count": 129,
      "outputs": [
        {
          "output_type": "stream",
          "name": "stdout",
          "text": [
            "[1, 0/36] loss: 2.030)\n",
            "[1, 5/36] loss: 9.454)\n",
            "[1, 10/36] loss: 9.289)\n",
            "[1, 15/36] loss: 8.433)\n",
            "[1, 20/36] loss: 8.630)\n",
            "[1, 25/36] loss: 7.968)\n",
            "[1, 30/36] loss: 7.506)\n",
            "[1, 35/36] loss: 7.506)\n",
            "[2, 0/36] loss: 1.467)\n",
            "[2, 5/36] loss: 6.905)\n",
            "[2, 10/36] loss: 6.869)\n",
            "[2, 15/36] loss: 6.754)\n",
            "[2, 20/36] loss: 6.223)\n",
            "[2, 25/36] loss: 6.080)\n",
            "[2, 30/36] loss: 6.118)\n",
            "[2, 35/36] loss: 5.894)\n",
            "[3, 0/36] loss: 0.989)\n",
            "[3, 5/36] loss: 5.665)\n",
            "[3, 10/36] loss: 5.183)\n",
            "[3, 15/36] loss: 5.607)\n",
            "[3, 20/36] loss: 5.221)\n",
            "[3, 25/36] loss: 4.606)\n",
            "[3, 30/36] loss: 5.073)\n",
            "[3, 35/36] loss: 4.693)\n",
            "[4, 0/36] loss: 0.967)\n",
            "[4, 5/36] loss: 4.502)\n",
            "[4, 10/36] loss: 4.071)\n",
            "[4, 15/36] loss: 4.338)\n",
            "[4, 20/36] loss: 4.180)\n",
            "[4, 25/36] loss: 4.034)\n",
            "[4, 30/36] loss: 4.146)\n",
            "[4, 35/36] loss: 4.010)\n",
            "[5, 0/36] loss: 0.627)\n",
            "[5, 5/36] loss: 3.558)\n",
            "[5, 10/36] loss: 3.568)\n",
            "[5, 15/36] loss: 3.439)\n",
            "[5, 20/36] loss: 3.439)\n",
            "[5, 25/36] loss: 3.803)\n",
            "[5, 30/36] loss: 3.375)\n",
            "[5, 35/36] loss: 3.520)\n",
            "[6, 0/36] loss: 0.610)\n",
            "[6, 5/36] loss: 3.341)\n",
            "[6, 10/36] loss: 3.112)\n",
            "[6, 15/36] loss: 3.480)\n",
            "[6, 20/36] loss: 3.236)\n",
            "[6, 25/36] loss: 3.358)\n",
            "[6, 30/36] loss: 2.808)\n",
            "[6, 35/36] loss: 3.384)\n",
            "[7, 0/36] loss: 0.465)\n",
            "[7, 5/36] loss: 2.940)\n",
            "[7, 10/36] loss: 2.668)\n",
            "[7, 15/36] loss: 3.104)\n",
            "[7, 20/36] loss: 3.032)\n",
            "[7, 25/36] loss: 2.586)\n",
            "[7, 30/36] loss: 2.862)\n",
            "[7, 35/36] loss: 2.953)\n",
            "[8, 0/36] loss: 0.475)\n",
            "[8, 5/36] loss: 2.551)\n",
            "[8, 10/36] loss: 2.833)\n",
            "[8, 15/36] loss: 2.382)\n",
            "[8, 20/36] loss: 2.372)\n",
            "[8, 25/36] loss: 2.751)\n",
            "[8, 30/36] loss: 2.485)\n",
            "[8, 35/36] loss: 2.617)\n",
            "[9, 0/36] loss: 0.447)\n",
            "[9, 5/36] loss: 1.956)\n",
            "[9, 10/36] loss: 2.293)\n",
            "[9, 15/36] loss: 2.173)\n",
            "[9, 20/36] loss: 2.320)\n",
            "[9, 25/36] loss: 2.220)\n",
            "[9, 30/36] loss: 1.948)\n",
            "[9, 35/36] loss: 2.227)\n",
            "[10, 0/36] loss: 0.365)\n",
            "[10, 5/36] loss: 1.978)\n",
            "[10, 10/36] loss: 1.901)\n",
            "[10, 15/36] loss: 2.258)\n",
            "[10, 20/36] loss: 2.156)\n",
            "[10, 25/36] loss: 1.436)\n",
            "[10, 30/36] loss: 1.836)\n",
            "[10, 35/36] loss: 2.058)\n",
            "Finished Training\n",
            "[1, 0/36] loss: 2.155)\n",
            "[1, 5/36] loss: 9.792)\n",
            "[1, 10/36] loss: 9.228)\n",
            "[1, 15/36] loss: 8.743)\n",
            "[1, 20/36] loss: 8.557)\n",
            "[1, 25/36] loss: 8.264)\n",
            "[1, 30/36] loss: 8.169)\n",
            "[1, 35/36] loss: 7.886)\n",
            "[2, 0/36] loss: 1.377)\n",
            "[2, 5/36] loss: 7.303)\n",
            "[2, 10/36] loss: 7.159)\n",
            "[2, 15/36] loss: 7.210)\n",
            "[2, 20/36] loss: 6.360)\n",
            "[2, 25/36] loss: 6.124)\n",
            "[2, 30/36] loss: 6.081)\n",
            "[2, 35/36] loss: 6.380)\n",
            "[3, 0/36] loss: 0.982)\n",
            "[3, 5/36] loss: 6.003)\n",
            "[3, 10/36] loss: 5.489)\n",
            "[3, 15/36] loss: 5.474)\n",
            "[3, 20/36] loss: 5.515)\n",
            "[3, 25/36] loss: 5.612)\n",
            "[3, 30/36] loss: 5.745)\n",
            "[3, 35/36] loss: 5.247)\n",
            "[4, 0/36] loss: 1.205)\n",
            "[4, 5/36] loss: 5.368)\n",
            "[4, 10/36] loss: 5.154)\n",
            "[4, 15/36] loss: 4.747)\n",
            "[4, 20/36] loss: 4.754)\n",
            "[4, 25/36] loss: 5.392)\n",
            "[4, 30/36] loss: 4.950)\n",
            "[4, 35/36] loss: 4.816)\n",
            "[5, 0/36] loss: 0.816)\n",
            "[5, 5/36] loss: 4.859)\n",
            "[5, 10/36] loss: 4.881)\n",
            "[5, 15/36] loss: 4.372)\n",
            "[5, 20/36] loss: 4.261)\n",
            "[5, 25/36] loss: 4.685)\n",
            "[5, 30/36] loss: 5.078)\n",
            "[5, 35/36] loss: 4.970)\n",
            "[6, 0/36] loss: 0.825)\n",
            "[6, 5/36] loss: 4.121)\n",
            "[6, 10/36] loss: 4.389)\n",
            "[6, 15/36] loss: 4.425)\n",
            "[6, 20/36] loss: 4.106)\n",
            "[6, 25/36] loss: 4.488)\n",
            "[6, 30/36] loss: 3.966)\n",
            "[6, 35/36] loss: 4.110)\n",
            "[7, 0/36] loss: 0.658)\n",
            "[7, 5/36] loss: 4.310)\n",
            "[7, 10/36] loss: 4.097)\n",
            "[7, 15/36] loss: 4.088)\n",
            "[7, 20/36] loss: 4.077)\n",
            "[7, 25/36] loss: 4.019)\n",
            "[7, 30/36] loss: 4.235)\n",
            "[7, 35/36] loss: 3.905)\n",
            "[8, 0/36] loss: 0.699)\n",
            "[8, 5/36] loss: 3.710)\n",
            "[8, 10/36] loss: 4.275)\n",
            "[8, 15/36] loss: 4.162)\n",
            "[8, 20/36] loss: 3.217)\n",
            "[8, 25/36] loss: 3.901)\n",
            "[8, 30/36] loss: 4.360)\n",
            "[8, 35/36] loss: 3.658)\n",
            "[9, 0/36] loss: 0.842)\n",
            "[9, 5/36] loss: 3.905)\n",
            "[9, 10/36] loss: 3.807)\n",
            "[9, 15/36] loss: 3.822)\n",
            "[9, 20/36] loss: 3.374)\n",
            "[9, 25/36] loss: 3.542)\n",
            "[9, 30/36] loss: 3.615)\n",
            "[9, 35/36] loss: 3.875)\n",
            "[10, 0/36] loss: 0.696)\n",
            "[10, 5/36] loss: 3.087)\n",
            "[10, 10/36] loss: 3.402)\n",
            "[10, 15/36] loss: 3.121)\n",
            "[10, 20/36] loss: 3.693)\n",
            "[10, 25/36] loss: 3.573)\n",
            "[10, 30/36] loss: 3.506)\n",
            "[10, 35/36] loss: 2.921)\n",
            "Finished Training\n"
          ]
        }
      ]
    },
    {
      "cell_type": "code",
      "source": [
        "def validate(data_loader, model_ft):\n",
        "  model = model_ft.to(device)\n",
        "\n",
        "  criterion = nn.CrossEntropyLoss().to(device)\n",
        "  optimizer = optim.SGD(model.parameters(), lr=0.001, momentum=0.9)\n",
        "  model.eval()\n",
        "\n",
        "  with torch.no_grad():\n",
        "      predictions = torch.Tensor().to(device)\n",
        "      y_labels = torch.Tensor().to(device)\n",
        "      for i, data in enumerate(data_loader):\n",
        "          images, labels = data\n",
        "          N = images.size(0)\n",
        "          images = Variable(images).to(device)\n",
        "          labels = Variable(labels).to(device)\n",
        "\n",
        "          outputs = model(images)\n",
        "          prediction = outputs.max(1, keepdim=True)[1]\n",
        "\n",
        "          prediction = outputs.max(1, keepdim=True)[1]\n",
        "          predictions = torch.cat((predictions, prediction), dim = 0)\n",
        "          y_labels = torch.cat((y_labels, labels), dim=0)\n",
        "      print(f'acc : {accuracy(predictions.flatten(), y_labels)}')\n",
        "  return predictions, y_labels"
      ],
      "metadata": {
        "id": "kf05dP_HSLp8"
      },
      "execution_count": 130,
      "outputs": []
    },
    {
      "cell_type": "code",
      "source": [
        "pred, lab = validate(test_loader, model_resnet)\n",
        "pred_, lab_ = validate(test_loader, model_vgg16)"
      ],
      "metadata": {
        "colab": {
          "base_uri": "https://localhost:8080/"
        },
        "id": "qB-GbhfuZcJD",
        "outputId": "3cdc0996-05e8-444c-cd40-be68fce892a3"
      },
      "execution_count": 133,
      "outputs": [
        {
          "output_type": "stream",
          "name": "stdout",
          "text": [
            "acc : 0.74643874168396\n",
            "acc : 0.6495726704597473\n"
          ]
        }
      ]
    },
    {
      "cell_type": "markdown",
      "metadata": {
        "id": "wusKN7S3YCDQ"
      },
      "source": [
        "## 4. Comparaison des résulats"
      ]
    },
    {
      "cell_type": "markdown",
      "source": [
        "Pour le moment on peut voir que Resnet est le meilleur des deux modèles. Nous allons quand meme observer parmis les différentes classes à quel point un des type de mélanome est plus compliqué à observer."
      ],
      "metadata": {
        "id": "e0cpeuZOwN7n"
      }
    },
    {
      "cell_type": "code",
      "source": [
        "d = {'label': lab.tolist(), 'resnet': pred.flatten().tolist(), 'vgg16':pred_.flatten().tolist()}"
      ],
      "metadata": {
        "id": "9T_c_sGKxllF"
      },
      "execution_count": 153,
      "outputs": []
    },
    {
      "cell_type": "code",
      "source": [
        "res = pd.DataFrame(d)\n",
        "res"
      ],
      "metadata": {
        "colab": {
          "base_uri": "https://localhost:8080/",
          "height": 424
        },
        "id": "QUKDadzwwNd8",
        "outputId": "e38b8793-99dc-4a6f-bf50-484b5ab7e911"
      },
      "execution_count": 154,
      "outputs": [
        {
          "output_type": "execute_result",
          "data": {
            "text/plain": [
              "     label  resnet  vgg16\n",
              "0      1.0     2.0    1.0\n",
              "1      0.0     2.0    0.0\n",
              "2      1.0     1.0    4.0\n",
              "3      1.0     1.0    1.0\n",
              "4      1.0     1.0    1.0\n",
              "..     ...     ...    ...\n",
              "697    1.0     1.0    1.0\n",
              "698    1.0     1.0    4.0\n",
              "699    2.0     2.0    2.0\n",
              "700    1.0     1.0    1.0\n",
              "701    1.0     0.0    0.0\n",
              "\n",
              "[702 rows x 3 columns]"
            ],
            "text/html": [
              "\n",
              "  <div id=\"df-5b5096a4-c24b-4ed5-b97b-b4784c695335\">\n",
              "    <div class=\"colab-df-container\">\n",
              "      <div>\n",
              "<style scoped>\n",
              "    .dataframe tbody tr th:only-of-type {\n",
              "        vertical-align: middle;\n",
              "    }\n",
              "\n",
              "    .dataframe tbody tr th {\n",
              "        vertical-align: top;\n",
              "    }\n",
              "\n",
              "    .dataframe thead th {\n",
              "        text-align: right;\n",
              "    }\n",
              "</style>\n",
              "<table border=\"1\" class=\"dataframe\">\n",
              "  <thead>\n",
              "    <tr style=\"text-align: right;\">\n",
              "      <th></th>\n",
              "      <th>label</th>\n",
              "      <th>resnet</th>\n",
              "      <th>vgg16</th>\n",
              "    </tr>\n",
              "  </thead>\n",
              "  <tbody>\n",
              "    <tr>\n",
              "      <th>0</th>\n",
              "      <td>1.0</td>\n",
              "      <td>2.0</td>\n",
              "      <td>1.0</td>\n",
              "    </tr>\n",
              "    <tr>\n",
              "      <th>1</th>\n",
              "      <td>0.0</td>\n",
              "      <td>2.0</td>\n",
              "      <td>0.0</td>\n",
              "    </tr>\n",
              "    <tr>\n",
              "      <th>2</th>\n",
              "      <td>1.0</td>\n",
              "      <td>1.0</td>\n",
              "      <td>4.0</td>\n",
              "    </tr>\n",
              "    <tr>\n",
              "      <th>3</th>\n",
              "      <td>1.0</td>\n",
              "      <td>1.0</td>\n",
              "      <td>1.0</td>\n",
              "    </tr>\n",
              "    <tr>\n",
              "      <th>4</th>\n",
              "      <td>1.0</td>\n",
              "      <td>1.0</td>\n",
              "      <td>1.0</td>\n",
              "    </tr>\n",
              "    <tr>\n",
              "      <th>...</th>\n",
              "      <td>...</td>\n",
              "      <td>...</td>\n",
              "      <td>...</td>\n",
              "    </tr>\n",
              "    <tr>\n",
              "      <th>697</th>\n",
              "      <td>1.0</td>\n",
              "      <td>1.0</td>\n",
              "      <td>1.0</td>\n",
              "    </tr>\n",
              "    <tr>\n",
              "      <th>698</th>\n",
              "      <td>1.0</td>\n",
              "      <td>1.0</td>\n",
              "      <td>4.0</td>\n",
              "    </tr>\n",
              "    <tr>\n",
              "      <th>699</th>\n",
              "      <td>2.0</td>\n",
              "      <td>2.0</td>\n",
              "      <td>2.0</td>\n",
              "    </tr>\n",
              "    <tr>\n",
              "      <th>700</th>\n",
              "      <td>1.0</td>\n",
              "      <td>1.0</td>\n",
              "      <td>1.0</td>\n",
              "    </tr>\n",
              "    <tr>\n",
              "      <th>701</th>\n",
              "      <td>1.0</td>\n",
              "      <td>0.0</td>\n",
              "      <td>0.0</td>\n",
              "    </tr>\n",
              "  </tbody>\n",
              "</table>\n",
              "<p>702 rows × 3 columns</p>\n",
              "</div>\n",
              "      <button class=\"colab-df-convert\" onclick=\"convertToInteractive('df-5b5096a4-c24b-4ed5-b97b-b4784c695335')\"\n",
              "              title=\"Convert this dataframe to an interactive table.\"\n",
              "              style=\"display:none;\">\n",
              "        \n",
              "  <svg xmlns=\"http://www.w3.org/2000/svg\" height=\"24px\"viewBox=\"0 0 24 24\"\n",
              "       width=\"24px\">\n",
              "    <path d=\"M0 0h24v24H0V0z\" fill=\"none\"/>\n",
              "    <path d=\"M18.56 5.44l.94 2.06.94-2.06 2.06-.94-2.06-.94-.94-2.06-.94 2.06-2.06.94zm-11 1L8.5 8.5l.94-2.06 2.06-.94-2.06-.94L8.5 2.5l-.94 2.06-2.06.94zm10 10l.94 2.06.94-2.06 2.06-.94-2.06-.94-.94-2.06-.94 2.06-2.06.94z\"/><path d=\"M17.41 7.96l-1.37-1.37c-.4-.4-.92-.59-1.43-.59-.52 0-1.04.2-1.43.59L10.3 9.45l-7.72 7.72c-.78.78-.78 2.05 0 2.83L4 21.41c.39.39.9.59 1.41.59.51 0 1.02-.2 1.41-.59l7.78-7.78 2.81-2.81c.8-.78.8-2.07 0-2.86zM5.41 20L4 18.59l7.72-7.72 1.47 1.35L5.41 20z\"/>\n",
              "  </svg>\n",
              "      </button>\n",
              "      \n",
              "  <style>\n",
              "    .colab-df-container {\n",
              "      display:flex;\n",
              "      flex-wrap:wrap;\n",
              "      gap: 12px;\n",
              "    }\n",
              "\n",
              "    .colab-df-convert {\n",
              "      background-color: #E8F0FE;\n",
              "      border: none;\n",
              "      border-radius: 50%;\n",
              "      cursor: pointer;\n",
              "      display: none;\n",
              "      fill: #1967D2;\n",
              "      height: 32px;\n",
              "      padding: 0 0 0 0;\n",
              "      width: 32px;\n",
              "    }\n",
              "\n",
              "    .colab-df-convert:hover {\n",
              "      background-color: #E2EBFA;\n",
              "      box-shadow: 0px 1px 2px rgba(60, 64, 67, 0.3), 0px 1px 3px 1px rgba(60, 64, 67, 0.15);\n",
              "      fill: #174EA6;\n",
              "    }\n",
              "\n",
              "    [theme=dark] .colab-df-convert {\n",
              "      background-color: #3B4455;\n",
              "      fill: #D2E3FC;\n",
              "    }\n",
              "\n",
              "    [theme=dark] .colab-df-convert:hover {\n",
              "      background-color: #434B5C;\n",
              "      box-shadow: 0px 1px 3px 1px rgba(0, 0, 0, 0.15);\n",
              "      filter: drop-shadow(0px 1px 2px rgba(0, 0, 0, 0.3));\n",
              "      fill: #FFFFFF;\n",
              "    }\n",
              "  </style>\n",
              "\n",
              "      <script>\n",
              "        const buttonEl =\n",
              "          document.querySelector('#df-5b5096a4-c24b-4ed5-b97b-b4784c695335 button.colab-df-convert');\n",
              "        buttonEl.style.display =\n",
              "          google.colab.kernel.accessAllowed ? 'block' : 'none';\n",
              "\n",
              "        async function convertToInteractive(key) {\n",
              "          const element = document.querySelector('#df-5b5096a4-c24b-4ed5-b97b-b4784c695335');\n",
              "          const dataTable =\n",
              "            await google.colab.kernel.invokeFunction('convertToInteractive',\n",
              "                                                     [key], {});\n",
              "          if (!dataTable) return;\n",
              "\n",
              "          const docLinkHtml = 'Like what you see? Visit the ' +\n",
              "            '<a target=\"_blank\" href=https://colab.research.google.com/notebooks/data_table.ipynb>data table notebook</a>'\n",
              "            + ' to learn more about interactive tables.';\n",
              "          element.innerHTML = '';\n",
              "          dataTable['output_type'] = 'display_data';\n",
              "          await google.colab.output.renderOutput(dataTable, element);\n",
              "          const docLink = document.createElement('div');\n",
              "          docLink.innerHTML = docLinkHtml;\n",
              "          element.appendChild(docLink);\n",
              "        }\n",
              "      </script>\n",
              "    </div>\n",
              "  </div>\n",
              "  "
            ]
          },
          "metadata": {},
          "execution_count": 154
        }
      ]
    },
    {
      "cell_type": "code",
      "source": [
        "resnet = res[res['label'] == 1.0]\n",
        "(resnet['label'] == resnet['resnet']).sum()\n"
      ],
      "metadata": {
        "colab": {
          "base_uri": "https://localhost:8080/"
        },
        "id": "tPuywmg9yZL8",
        "outputId": "9e9e68df-537d-488f-918e-31e43556cc31"
      },
      "execution_count": 175,
      "outputs": [
        {
          "output_type": "execute_result",
          "data": {
            "text/plain": [
              "357"
            ]
          },
          "metadata": {},
          "execution_count": 175
        }
      ]
    }
  ],
  "metadata": {
    "kernelspec": {
      "display_name": "base",
      "language": "python",
      "name": "python3"
    },
    "language_info": {
      "codemirror_mode": {
        "name": "ipython",
        "version": 3
      },
      "file_extension": ".py",
      "mimetype": "text/x-python",
      "name": "python",
      "nbconvert_exporter": "python",
      "pygments_lexer": "ipython3",
      "version": "3.9.12 (main, Apr  4 2022, 05:22:27) [MSC v.1916 64 bit (AMD64)]"
    },
    "orig_nbformat": 4,
    "vscode": {
      "interpreter": {
        "hash": "9573713459e4e640c834a88a9b8922dac530eaafead7d97ad6036842c771ad74"
      }
    },
    "colab": {
      "provenance": []
    },
    "accelerator": "GPU",
    "gpuClass": "standard"
  },
  "nbformat": 4,
  "nbformat_minor": 0
}